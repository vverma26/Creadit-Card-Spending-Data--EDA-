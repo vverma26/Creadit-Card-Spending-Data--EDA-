{
 "cells": [
  {
   "cell_type": "markdown",
   "id": "d2aed27f",
   "metadata": {},
   "source": [
    "# \n",
    "# DATA EXPLORATORY ANALYSIS FOR CREDIT CARD DATA\n",
    "# "
   ]
  },
  {
   "cell_type": "code",
   "execution_count": 1,
   "id": "df84afdf",
   "metadata": {},
   "outputs": [],
   "source": [
    "# Import the necceasary packages\n",
    "\n",
    "# Numerical Operations\n",
    "import pandas as pd\n",
    "import numpy as np\n",
    "import os\n",
    "\n",
    "#Plotting\n",
    "import matplotlib.pyplot as plt\n",
    "import seaborn as sns\n",
    "\n",
    "#Remove warnings\n",
    "import warnings\n",
    "warnings.filterwarnings('ignore')\n",
    "\n",
    "#Date\n",
    "import datetime as dt\n",
    "\n",
    "# set the graphs to show in the jupyter notebook\n",
    "%matplotlib inline\n",
    "\n",
    "# set seabor graphs to a better style\n",
    "sns.set(style=\"ticks\")\n",
    "\n",
    "# for better visualization\n",
    "plt.style.use('ggplot')"
   ]
  },
  {
   "cell_type": "markdown",
   "id": "edf26922",
   "metadata": {},
   "source": [
    "### import the data sets\n",
    "##### customers, spend, repayment"
   ]
  },
  {
   "cell_type": "code",
   "execution_count": 2,
   "id": "bbe9d902",
   "metadata": {},
   "outputs": [],
   "source": [
    "customer=pd.read_csv(r\"C:\\Users\\agraw\\Desktop\\Credit-Card-Case-Study-Python-Foundation-Case-Study-\\Customer Acqusition.csv\",index_col=0)\n",
    "spend=pd.read_csv(r\"C:\\Users\\agraw\\Desktop\\Credit-Card-Case-Study-Python-Foundation-Case-Study-\\spend.csv\",index_col=0)\n",
    "repayment=pd.read_csv(r\"C:\\Users\\agraw\\Desktop\\Credit-Card-Case-Study-Python-Foundation-Case-Study-\\Repayment.csv\",index_col=0)\n"
   ]
  },
  {
   "cell_type": "markdown",
   "id": "edb1cba1",
   "metadata": {},
   "source": [
    "### Exploratory Data Analysis\n",
    "\n",
    "#### dataset shape"
   ]
  },
  {
   "cell_type": "code",
   "execution_count": 3,
   "id": "4c278d6b",
   "metadata": {},
   "outputs": [
    {
     "name": "stdout",
     "output_type": "stream",
     "text": [
      "(100, 7)\n",
      "(1500, 4)\n",
      "(1523, 4)\n"
     ]
    }
   ],
   "source": [
    "# shape of the data sets\n",
    "print(customer.shape)\n",
    "print(spend.shape)\n",
    "print(repayment.shape)"
   ]
  },
  {
   "cell_type": "markdown",
   "id": "55580ea2",
   "metadata": {},
   "source": [
    "#### data sets info"
   ]
  },
  {
   "cell_type": "code",
   "execution_count": 4,
   "id": "d237e95b",
   "metadata": {},
   "outputs": [
    {
     "name": "stdout",
     "output_type": "stream",
     "text": [
      "<class 'pandas.core.frame.DataFrame'>\n",
      "Int64Index: 100 entries, 1 to 100\n",
      "Data columns (total 7 columns):\n",
      " #   Column    Non-Null Count  Dtype  \n",
      "---  ------    --------------  -----  \n",
      " 0   Customer  100 non-null    object \n",
      " 1   Age       100 non-null    int64  \n",
      " 2   City      100 non-null    object \n",
      " 3   Product   100 non-null    object \n",
      " 4   Limit     100 non-null    float64\n",
      " 5   Company   100 non-null    object \n",
      " 6   Segment   100 non-null    object \n",
      "dtypes: float64(1), int64(1), object(5)\n",
      "memory usage: 6.2+ KB\n"
     ]
    }
   ],
   "source": [
    "customer.info()"
   ]
  },
  {
   "cell_type": "code",
   "execution_count": 5,
   "id": "7e97048b",
   "metadata": {},
   "outputs": [
    {
     "name": "stdout",
     "output_type": "stream",
     "text": [
      "<class 'pandas.core.frame.DataFrame'>\n",
      "Int64Index: 1500 entries, 1 to 1500\n",
      "Data columns (total 4 columns):\n",
      " #   Column    Non-Null Count  Dtype  \n",
      "---  ------    --------------  -----  \n",
      " 0   Customer  1500 non-null   object \n",
      " 1   Month     1500 non-null   object \n",
      " 2   Type      1500 non-null   object \n",
      " 3   Amount    1500 non-null   float64\n",
      "dtypes: float64(1), object(3)\n",
      "memory usage: 58.6+ KB\n"
     ]
    }
   ],
   "source": [
    "spend.info()"
   ]
  },
  {
   "cell_type": "code",
   "execution_count": 6,
   "id": "0bafd91d",
   "metadata": {},
   "outputs": [],
   "source": [
    "# data type change\n",
    "spend.Month=pd.to_datetime(spend.Month)"
   ]
  },
  {
   "cell_type": "code",
   "execution_count": 7,
   "id": "535d73e6",
   "metadata": {},
   "outputs": [
    {
     "name": "stdout",
     "output_type": "stream",
     "text": [
      "<class 'pandas.core.frame.DataFrame'>\n",
      "Float64Index: 1523 entries, nan to nan\n",
      "Data columns (total 4 columns):\n",
      " #   Column      Non-Null Count  Dtype  \n",
      "---  ------      --------------  -----  \n",
      " 0   Customer    1500 non-null   object \n",
      " 1   Month       1500 non-null   object \n",
      " 2   Amount      1500 non-null   float64\n",
      " 3   Unnamed: 4  0 non-null      float64\n",
      "dtypes: float64(2), object(2)\n",
      "memory usage: 59.5+ KB\n"
     ]
    }
   ],
   "source": [
    "repayment.info()"
   ]
  },
  {
   "cell_type": "code",
   "execution_count": 8,
   "id": "6a0a1229",
   "metadata": {},
   "outputs": [],
   "source": [
    "# data type change\n",
    "repayment.Month=pd.to_datetime(repayment.Month)"
   ]
  },
  {
   "cell_type": "markdown",
   "id": "2478bad0",
   "metadata": {},
   "source": [
    "##### NA values in datasets"
   ]
  },
  {
   "cell_type": "code",
   "execution_count": 9,
   "id": "ebaa2b98",
   "metadata": {},
   "outputs": [
    {
     "data": {
      "text/plain": [
       "Customer    0\n",
       "Age         0\n",
       "City        0\n",
       "Product     0\n",
       "Limit       0\n",
       "Company     0\n",
       "Segment     0\n",
       "dtype: int64"
      ]
     },
     "execution_count": 9,
     "metadata": {},
     "output_type": "execute_result"
    }
   ],
   "source": [
    "customer.isna().sum()"
   ]
  },
  {
   "cell_type": "code",
   "execution_count": 10,
   "id": "325ddfca",
   "metadata": {},
   "outputs": [
    {
     "data": {
      "text/plain": [
       "Customer    0\n",
       "Month       0\n",
       "Type        0\n",
       "Amount      0\n",
       "dtype: int64"
      ]
     },
     "execution_count": 10,
     "metadata": {},
     "output_type": "execute_result"
    }
   ],
   "source": [
    "spend.isna().sum()"
   ]
  },
  {
   "cell_type": "code",
   "execution_count": 11,
   "id": "d6ad4bcc",
   "metadata": {},
   "outputs": [
    {
     "data": {
      "text/plain": [
       "Customer        23\n",
       "Month           23\n",
       "Amount          23\n",
       "Unnamed: 4    1523\n",
       "dtype: int64"
      ]
     },
     "execution_count": 11,
     "metadata": {},
     "output_type": "execute_result"
    }
   ],
   "source": [
    "repayment.isna().sum()"
   ]
  },
  {
   "cell_type": "code",
   "execution_count": 12,
   "id": "92fd1523",
   "metadata": {},
   "outputs": [
    {
     "data": {
      "text/html": [
       "<div>\n",
       "<style scoped>\n",
       "    .dataframe tbody tr th:only-of-type {\n",
       "        vertical-align: middle;\n",
       "    }\n",
       "\n",
       "    .dataframe tbody tr th {\n",
       "        vertical-align: top;\n",
       "    }\n",
       "\n",
       "    .dataframe thead th {\n",
       "        text-align: right;\n",
       "    }\n",
       "</style>\n",
       "<table border=\"1\" class=\"dataframe\">\n",
       "  <thead>\n",
       "    <tr style=\"text-align: right;\">\n",
       "      <th></th>\n",
       "      <th>Customer</th>\n",
       "      <th>Month</th>\n",
       "      <th>Amount</th>\n",
       "    </tr>\n",
       "    <tr>\n",
       "      <th>SL No:</th>\n",
       "      <th></th>\n",
       "      <th></th>\n",
       "      <th></th>\n",
       "    </tr>\n",
       "  </thead>\n",
       "  <tbody>\n",
       "    <tr>\n",
       "      <th>NaN</th>\n",
       "      <td>A1</td>\n",
       "      <td>2004-01-12</td>\n",
       "      <td>495414.75</td>\n",
       "    </tr>\n",
       "    <tr>\n",
       "      <th>2.0</th>\n",
       "      <td>A1</td>\n",
       "      <td>2004-01-03</td>\n",
       "      <td>245899.02</td>\n",
       "    </tr>\n",
       "    <tr>\n",
       "      <th>3.0</th>\n",
       "      <td>A1</td>\n",
       "      <td>2004-01-15</td>\n",
       "      <td>259490.06</td>\n",
       "    </tr>\n",
       "    <tr>\n",
       "      <th>4.0</th>\n",
       "      <td>A1</td>\n",
       "      <td>2004-01-25</td>\n",
       "      <td>437555.12</td>\n",
       "    </tr>\n",
       "    <tr>\n",
       "      <th>5.0</th>\n",
       "      <td>A1</td>\n",
       "      <td>2005-01-17</td>\n",
       "      <td>165972.88</td>\n",
       "    </tr>\n",
       "    <tr>\n",
       "      <th>...</th>\n",
       "      <td>...</td>\n",
       "      <td>...</td>\n",
       "      <td>...</td>\n",
       "    </tr>\n",
       "    <tr>\n",
       "      <th>1496.0</th>\n",
       "      <td>A67</td>\n",
       "      <td>2005-05-09</td>\n",
       "      <td>55638.77</td>\n",
       "    </tr>\n",
       "    <tr>\n",
       "      <th>1497.0</th>\n",
       "      <td>A68</td>\n",
       "      <td>2006-05-10</td>\n",
       "      <td>319836.49</td>\n",
       "    </tr>\n",
       "    <tr>\n",
       "      <th>1498.0</th>\n",
       "      <td>A69</td>\n",
       "      <td>2006-07-11</td>\n",
       "      <td>247628.45</td>\n",
       "    </tr>\n",
       "    <tr>\n",
       "      <th>1499.0</th>\n",
       "      <td>A70</td>\n",
       "      <td>2005-08-12</td>\n",
       "      <td>454016.51</td>\n",
       "    </tr>\n",
       "    <tr>\n",
       "      <th>1500.0</th>\n",
       "      <td>A71</td>\n",
       "      <td>2004-09-13</td>\n",
       "      <td>56286.33</td>\n",
       "    </tr>\n",
       "  </tbody>\n",
       "</table>\n",
       "<p>1500 rows × 3 columns</p>\n",
       "</div>"
      ],
      "text/plain": [
       "       Customer      Month     Amount\n",
       "SL No:                               \n",
       "NaN          A1 2004-01-12  495414.75\n",
       "2.0          A1 2004-01-03  245899.02\n",
       "3.0          A1 2004-01-15  259490.06\n",
       "4.0          A1 2004-01-25  437555.12\n",
       "5.0          A1 2005-01-17  165972.88\n",
       "...         ...        ...        ...\n",
       "1496.0      A67 2005-05-09   55638.77\n",
       "1497.0      A68 2006-05-10  319836.49\n",
       "1498.0      A69 2006-07-11  247628.45\n",
       "1499.0      A70 2005-08-12  454016.51\n",
       "1500.0      A71 2004-09-13   56286.33\n",
       "\n",
       "[1500 rows x 3 columns]"
      ]
     },
     "execution_count": 12,
     "metadata": {},
     "output_type": "execute_result"
    }
   ],
   "source": [
    "repayment=repayment.drop(repayment.columns[3],axis=1)\n",
    "repayment=repayment.dropna()\n",
    "repayment"
   ]
  },
  {
   "cell_type": "code",
   "execution_count": 13,
   "id": "872eed0a",
   "metadata": {},
   "outputs": [
    {
     "data": {
      "text/plain": [
       "Customer    0\n",
       "Month       0\n",
       "Amount      0\n",
       "dtype: int64"
      ]
     },
     "execution_count": 13,
     "metadata": {},
     "output_type": "execute_result"
    }
   ],
   "source": [
    "repayment.isna().sum()"
   ]
  },
  {
   "cell_type": "code",
   "execution_count": 14,
   "id": "9a929437",
   "metadata": {},
   "outputs": [
    {
     "name": "stdout",
     "output_type": "stream",
     "text": [
      "<class 'pandas.core.frame.DataFrame'>\n",
      "Float64Index: 1500 entries, nan to 1500.0\n",
      "Data columns (total 3 columns):\n",
      " #   Column    Non-Null Count  Dtype         \n",
      "---  ------    --------------  -----         \n",
      " 0   Customer  1500 non-null   object        \n",
      " 1   Month     1500 non-null   datetime64[ns]\n",
      " 2   Amount    1500 non-null   float64       \n",
      "dtypes: datetime64[ns](1), float64(1), object(1)\n",
      "memory usage: 46.9+ KB\n"
     ]
    }
   ],
   "source": [
    "repayment.info()"
   ]
  },
  {
   "cell_type": "markdown",
   "id": "813c6f49",
   "metadata": {},
   "source": [
    "## Q1. In the above dataset,\n",
    "#### a. In case age is less than 18, replace it with mean of age values"
   ]
  },
  {
   "cell_type": "code",
   "execution_count": 15,
   "id": "aeda6cd7",
   "metadata": {},
   "outputs": [
    {
     "data": {
      "text/plain": [
       "6"
      ]
     },
     "execution_count": 15,
     "metadata": {},
     "output_type": "execute_result"
    }
   ],
   "source": [
    "(customer.Age<18).sum()"
   ]
  },
  {
   "cell_type": "code",
   "execution_count": 16,
   "id": "81c32479",
   "metadata": {},
   "outputs": [
    {
     "data": {
      "text/html": [
       "<div>\n",
       "<style scoped>\n",
       "    .dataframe tbody tr th:only-of-type {\n",
       "        vertical-align: middle;\n",
       "    }\n",
       "\n",
       "    .dataframe tbody tr th {\n",
       "        vertical-align: top;\n",
       "    }\n",
       "\n",
       "    .dataframe thead th {\n",
       "        text-align: right;\n",
       "    }\n",
       "</style>\n",
       "<table border=\"1\" class=\"dataframe\">\n",
       "  <thead>\n",
       "    <tr style=\"text-align: right;\">\n",
       "      <th></th>\n",
       "      <th>Customer</th>\n",
       "      <th>Age</th>\n",
       "      <th>City</th>\n",
       "      <th>Product</th>\n",
       "      <th>Limit</th>\n",
       "      <th>Company</th>\n",
       "      <th>Segment</th>\n",
       "    </tr>\n",
       "    <tr>\n",
       "      <th>No</th>\n",
       "      <th></th>\n",
       "      <th></th>\n",
       "      <th></th>\n",
       "      <th></th>\n",
       "      <th></th>\n",
       "      <th></th>\n",
       "      <th></th>\n",
       "    </tr>\n",
       "  </thead>\n",
       "  <tbody>\n",
       "    <tr>\n",
       "      <th>1</th>\n",
       "      <td>A1</td>\n",
       "      <td>76</td>\n",
       "      <td>BANGALORE</td>\n",
       "      <td>Gold</td>\n",
       "      <td>500000.0</td>\n",
       "      <td>C1</td>\n",
       "      <td>Self Employed</td>\n",
       "    </tr>\n",
       "    <tr>\n",
       "      <th>2</th>\n",
       "      <td>A2</td>\n",
       "      <td>71</td>\n",
       "      <td>CALCUTTA</td>\n",
       "      <td>Silver</td>\n",
       "      <td>100000.0</td>\n",
       "      <td>C2</td>\n",
       "      <td>Salaried_MNC</td>\n",
       "    </tr>\n",
       "    <tr>\n",
       "      <th>3</th>\n",
       "      <td>A3</td>\n",
       "      <td>34</td>\n",
       "      <td>COCHIN</td>\n",
       "      <td>Platimum</td>\n",
       "      <td>10000.0</td>\n",
       "      <td>C3</td>\n",
       "      <td>Salaried_Pvt</td>\n",
       "    </tr>\n",
       "    <tr>\n",
       "      <th>4</th>\n",
       "      <td>A4</td>\n",
       "      <td>47</td>\n",
       "      <td>BOMBAY</td>\n",
       "      <td>Platimum</td>\n",
       "      <td>10001.0</td>\n",
       "      <td>C4</td>\n",
       "      <td>Govt</td>\n",
       "    </tr>\n",
       "    <tr>\n",
       "      <th>5</th>\n",
       "      <td>A5</td>\n",
       "      <td>56</td>\n",
       "      <td>BANGALORE</td>\n",
       "      <td>Platimum</td>\n",
       "      <td>10002.0</td>\n",
       "      <td>C5</td>\n",
       "      <td>Normal Salary</td>\n",
       "    </tr>\n",
       "    <tr>\n",
       "      <th>...</th>\n",
       "      <td>...</td>\n",
       "      <td>...</td>\n",
       "      <td>...</td>\n",
       "      <td>...</td>\n",
       "      <td>...</td>\n",
       "      <td>...</td>\n",
       "      <td>...</td>\n",
       "    </tr>\n",
       "    <tr>\n",
       "      <th>96</th>\n",
       "      <td>A96</td>\n",
       "      <td>54</td>\n",
       "      <td>CHENNAI</td>\n",
       "      <td>Silver</td>\n",
       "      <td>100000.0</td>\n",
       "      <td>C19</td>\n",
       "      <td>Salaried_Pvt</td>\n",
       "    </tr>\n",
       "    <tr>\n",
       "      <th>97</th>\n",
       "      <td>A97</td>\n",
       "      <td>58</td>\n",
       "      <td>TRIVANDRUM</td>\n",
       "      <td>Platimum</td>\n",
       "      <td>10000.0</td>\n",
       "      <td>C20</td>\n",
       "      <td>Govt</td>\n",
       "    </tr>\n",
       "    <tr>\n",
       "      <th>98</th>\n",
       "      <td>A98</td>\n",
       "      <td>51</td>\n",
       "      <td>CALCUTTA</td>\n",
       "      <td>Platimum</td>\n",
       "      <td>10001.0</td>\n",
       "      <td>C21</td>\n",
       "      <td>Normal Salary</td>\n",
       "    </tr>\n",
       "    <tr>\n",
       "      <th>99</th>\n",
       "      <td>A99</td>\n",
       "      <td>35</td>\n",
       "      <td>CALCUTTA</td>\n",
       "      <td>Platimum</td>\n",
       "      <td>10002.0</td>\n",
       "      <td>C22</td>\n",
       "      <td>Self Employed</td>\n",
       "    </tr>\n",
       "    <tr>\n",
       "      <th>100</th>\n",
       "      <td>A100</td>\n",
       "      <td>36</td>\n",
       "      <td>COCHIN</td>\n",
       "      <td>Silver</td>\n",
       "      <td>100000.0</td>\n",
       "      <td>C5</td>\n",
       "      <td>Salaried_MNC</td>\n",
       "    </tr>\n",
       "  </tbody>\n",
       "</table>\n",
       "<p>100 rows × 7 columns</p>\n",
       "</div>"
      ],
      "text/plain": [
       "    Customer  Age        City   Product     Limit Company        Segment\n",
       "No                                                                      \n",
       "1         A1   76   BANGALORE      Gold  500000.0      C1  Self Employed\n",
       "2         A2   71    CALCUTTA    Silver  100000.0      C2   Salaried_MNC\n",
       "3         A3   34      COCHIN  Platimum   10000.0      C3   Salaried_Pvt\n",
       "4         A4   47      BOMBAY  Platimum   10001.0      C4           Govt\n",
       "5         A5   56   BANGALORE  Platimum   10002.0      C5  Normal Salary\n",
       "..       ...  ...         ...       ...       ...     ...            ...\n",
       "96       A96   54     CHENNAI    Silver  100000.0     C19   Salaried_Pvt\n",
       "97       A97   58  TRIVANDRUM  Platimum   10000.0     C20           Govt\n",
       "98       A98   51    CALCUTTA  Platimum   10001.0     C21  Normal Salary\n",
       "99       A99   35    CALCUTTA  Platimum   10002.0     C22  Self Employed\n",
       "100     A100   36      COCHIN    Silver  100000.0      C5   Salaried_MNC\n",
       "\n",
       "[100 rows x 7 columns]"
      ]
     },
     "execution_count": 16,
     "metadata": {},
     "output_type": "execute_result"
    }
   ],
   "source": [
    "age=lambda x:round(customer.Age.mean()) if x<18 else x\n",
    "customer.Age=customer.Age.apply(age)\n",
    "customer"
   ]
  },
  {
   "cell_type": "code",
   "execution_count": 17,
   "id": "30e0871c",
   "metadata": {},
   "outputs": [
    {
     "data": {
      "text/plain": [
       "0"
      ]
     },
     "execution_count": 17,
     "metadata": {},
     "output_type": "execute_result"
    }
   ],
   "source": [
    "(customer.Age <18).sum()"
   ]
  },
  {
   "cell_type": "markdown",
   "id": "1cfd92c6",
   "metadata": {},
   "source": [
    "#### b. In case spend amount is more than the limit, replace it with 50% of that customer’s limit.(customer’s limit provided in acquisition table is the per transaction limit on his card)"
   ]
  },
  {
   "cell_type": "code",
   "execution_count": 18,
   "id": "08f9f714",
   "metadata": {},
   "outputs": [
    {
     "data": {
      "text/html": [
       "<div>\n",
       "<style scoped>\n",
       "    .dataframe tbody tr th:only-of-type {\n",
       "        vertical-align: middle;\n",
       "    }\n",
       "\n",
       "    .dataframe tbody tr th {\n",
       "        vertical-align: top;\n",
       "    }\n",
       "\n",
       "    .dataframe thead th {\n",
       "        text-align: right;\n",
       "    }\n",
       "</style>\n",
       "<table border=\"1\" class=\"dataframe\">\n",
       "  <thead>\n",
       "    <tr style=\"text-align: right;\">\n",
       "      <th></th>\n",
       "      <th>Customer</th>\n",
       "      <th>Age</th>\n",
       "      <th>City</th>\n",
       "      <th>Product</th>\n",
       "      <th>Limit</th>\n",
       "      <th>Company</th>\n",
       "      <th>Segment</th>\n",
       "      <th>Month</th>\n",
       "      <th>Type</th>\n",
       "      <th>Spend_Amount</th>\n",
       "    </tr>\n",
       "  </thead>\n",
       "  <tbody>\n",
       "    <tr>\n",
       "      <th>0</th>\n",
       "      <td>A1</td>\n",
       "      <td>76</td>\n",
       "      <td>BANGALORE</td>\n",
       "      <td>Gold</td>\n",
       "      <td>500000.0</td>\n",
       "      <td>C1</td>\n",
       "      <td>Self Employed</td>\n",
       "      <td>2004-01-12</td>\n",
       "      <td>JEWELLERY</td>\n",
       "      <td>485470.80</td>\n",
       "    </tr>\n",
       "    <tr>\n",
       "      <th>1</th>\n",
       "      <td>A1</td>\n",
       "      <td>76</td>\n",
       "      <td>BANGALORE</td>\n",
       "      <td>Gold</td>\n",
       "      <td>500000.0</td>\n",
       "      <td>C1</td>\n",
       "      <td>Self Employed</td>\n",
       "      <td>2004-01-03</td>\n",
       "      <td>PETRO</td>\n",
       "      <td>410556.13</td>\n",
       "    </tr>\n",
       "    <tr>\n",
       "      <th>2</th>\n",
       "      <td>A1</td>\n",
       "      <td>76</td>\n",
       "      <td>BANGALORE</td>\n",
       "      <td>Gold</td>\n",
       "      <td>500000.0</td>\n",
       "      <td>C1</td>\n",
       "      <td>Self Employed</td>\n",
       "      <td>2004-01-15</td>\n",
       "      <td>CLOTHES</td>\n",
       "      <td>23740.46</td>\n",
       "    </tr>\n",
       "    <tr>\n",
       "      <th>3</th>\n",
       "      <td>A1</td>\n",
       "      <td>76</td>\n",
       "      <td>BANGALORE</td>\n",
       "      <td>Gold</td>\n",
       "      <td>500000.0</td>\n",
       "      <td>C1</td>\n",
       "      <td>Self Employed</td>\n",
       "      <td>2004-01-25</td>\n",
       "      <td>FOOD</td>\n",
       "      <td>484342.47</td>\n",
       "    </tr>\n",
       "    <tr>\n",
       "      <th>4</th>\n",
       "      <td>A1</td>\n",
       "      <td>76</td>\n",
       "      <td>BANGALORE</td>\n",
       "      <td>Gold</td>\n",
       "      <td>500000.0</td>\n",
       "      <td>C1</td>\n",
       "      <td>Self Employed</td>\n",
       "      <td>2005-01-17</td>\n",
       "      <td>CAMERA</td>\n",
       "      <td>369694.07</td>\n",
       "    </tr>\n",
       "    <tr>\n",
       "      <th>...</th>\n",
       "      <td>...</td>\n",
       "      <td>...</td>\n",
       "      <td>...</td>\n",
       "      <td>...</td>\n",
       "      <td>...</td>\n",
       "      <td>...</td>\n",
       "      <td>...</td>\n",
       "      <td>...</td>\n",
       "      <td>...</td>\n",
       "      <td>...</td>\n",
       "    </tr>\n",
       "    <tr>\n",
       "      <th>1495</th>\n",
       "      <td>A96</td>\n",
       "      <td>54</td>\n",
       "      <td>CHENNAI</td>\n",
       "      <td>Silver</td>\n",
       "      <td>100000.0</td>\n",
       "      <td>C19</td>\n",
       "      <td>Salaried_Pvt</td>\n",
       "      <td>2004-01-25</td>\n",
       "      <td>BIKE</td>\n",
       "      <td>54729.66</td>\n",
       "    </tr>\n",
       "    <tr>\n",
       "      <th>1496</th>\n",
       "      <td>A97</td>\n",
       "      <td>58</td>\n",
       "      <td>TRIVANDRUM</td>\n",
       "      <td>Platimum</td>\n",
       "      <td>10000.0</td>\n",
       "      <td>C20</td>\n",
       "      <td>Govt</td>\n",
       "      <td>2004-01-12</td>\n",
       "      <td>AUTO</td>\n",
       "      <td>5000.00</td>\n",
       "    </tr>\n",
       "    <tr>\n",
       "      <th>1497</th>\n",
       "      <td>A98</td>\n",
       "      <td>51</td>\n",
       "      <td>CALCUTTA</td>\n",
       "      <td>Platimum</td>\n",
       "      <td>10001.0</td>\n",
       "      <td>C21</td>\n",
       "      <td>Normal Salary</td>\n",
       "      <td>2004-01-03</td>\n",
       "      <td>SHOPPING</td>\n",
       "      <td>5000.50</td>\n",
       "    </tr>\n",
       "    <tr>\n",
       "      <th>1498</th>\n",
       "      <td>A99</td>\n",
       "      <td>35</td>\n",
       "      <td>CALCUTTA</td>\n",
       "      <td>Platimum</td>\n",
       "      <td>10002.0</td>\n",
       "      <td>C22</td>\n",
       "      <td>Self Employed</td>\n",
       "      <td>2004-01-15</td>\n",
       "      <td>AIR TICKET</td>\n",
       "      <td>5001.00</td>\n",
       "    </tr>\n",
       "    <tr>\n",
       "      <th>1499</th>\n",
       "      <td>A100</td>\n",
       "      <td>36</td>\n",
       "      <td>COCHIN</td>\n",
       "      <td>Silver</td>\n",
       "      <td>100000.0</td>\n",
       "      <td>C5</td>\n",
       "      <td>Salaried_MNC</td>\n",
       "      <td>2004-01-25</td>\n",
       "      <td>BUS TICKET</td>\n",
       "      <td>50000.00</td>\n",
       "    </tr>\n",
       "  </tbody>\n",
       "</table>\n",
       "<p>1500 rows × 10 columns</p>\n",
       "</div>"
      ],
      "text/plain": [
       "     Customer  Age        City   Product     Limit Company        Segment  \\\n",
       "0          A1   76   BANGALORE      Gold  500000.0      C1  Self Employed   \n",
       "1          A1   76   BANGALORE      Gold  500000.0      C1  Self Employed   \n",
       "2          A1   76   BANGALORE      Gold  500000.0      C1  Self Employed   \n",
       "3          A1   76   BANGALORE      Gold  500000.0      C1  Self Employed   \n",
       "4          A1   76   BANGALORE      Gold  500000.0      C1  Self Employed   \n",
       "...       ...  ...         ...       ...       ...     ...            ...   \n",
       "1495      A96   54     CHENNAI    Silver  100000.0     C19   Salaried_Pvt   \n",
       "1496      A97   58  TRIVANDRUM  Platimum   10000.0     C20           Govt   \n",
       "1497      A98   51    CALCUTTA  Platimum   10001.0     C21  Normal Salary   \n",
       "1498      A99   35    CALCUTTA  Platimum   10002.0     C22  Self Employed   \n",
       "1499     A100   36      COCHIN    Silver  100000.0      C5   Salaried_MNC   \n",
       "\n",
       "          Month        Type  Spend_Amount  \n",
       "0    2004-01-12   JEWELLERY     485470.80  \n",
       "1    2004-01-03       PETRO     410556.13  \n",
       "2    2004-01-15     CLOTHES      23740.46  \n",
       "3    2004-01-25        FOOD     484342.47  \n",
       "4    2005-01-17      CAMERA     369694.07  \n",
       "...         ...         ...           ...  \n",
       "1495 2004-01-25        BIKE      54729.66  \n",
       "1496 2004-01-12        AUTO       5000.00  \n",
       "1497 2004-01-03    SHOPPING       5000.50  \n",
       "1498 2004-01-15  AIR TICKET       5001.00  \n",
       "1499 2004-01-25  BUS TICKET      50000.00  \n",
       "\n",
       "[1500 rows x 10 columns]"
      ]
     },
     "execution_count": 18,
     "metadata": {},
     "output_type": "execute_result"
    }
   ],
   "source": [
    "CS=pd.merge(left=customer,right=spend,on='Customer')\n",
    "CS.Amount=np.where(CS.Amount>CS.Limit,0.5*CS.Limit,CS.Amount)\n",
    "CS=CS.rename(columns={'Amount':'Spend_Amount'})\n",
    "CS\n"
   ]
  },
  {
   "cell_type": "code",
   "execution_count": 19,
   "id": "9085a9cb",
   "metadata": {},
   "outputs": [
    {
     "data": {
      "text/plain": [
       "0"
      ]
     },
     "execution_count": 19,
     "metadata": {},
     "output_type": "execute_result"
    }
   ],
   "source": [
    "(CS.Spend_Amount>CS.Limit).sum()\n"
   ]
  },
  {
   "cell_type": "markdown",
   "id": "6e3b0675",
   "metadata": {},
   "source": [
    "#### c. Incase the repayment amount is more than the limit, replace the repayment with the limit."
   ]
  },
  {
   "cell_type": "code",
   "execution_count": 20,
   "id": "5138bcb9",
   "metadata": {},
   "outputs": [
    {
     "data": {
      "text/html": [
       "<div>\n",
       "<style scoped>\n",
       "    .dataframe tbody tr th:only-of-type {\n",
       "        vertical-align: middle;\n",
       "    }\n",
       "\n",
       "    .dataframe tbody tr th {\n",
       "        vertical-align: top;\n",
       "    }\n",
       "\n",
       "    .dataframe thead th {\n",
       "        text-align: right;\n",
       "    }\n",
       "</style>\n",
       "<table border=\"1\" class=\"dataframe\">\n",
       "  <thead>\n",
       "    <tr style=\"text-align: right;\">\n",
       "      <th></th>\n",
       "      <th>Customer</th>\n",
       "      <th>Age</th>\n",
       "      <th>City</th>\n",
       "      <th>Product</th>\n",
       "      <th>Limit</th>\n",
       "      <th>Company</th>\n",
       "      <th>Segment</th>\n",
       "      <th>Month</th>\n",
       "      <th>Repayment_Amount</th>\n",
       "    </tr>\n",
       "  </thead>\n",
       "  <tbody>\n",
       "    <tr>\n",
       "      <th>0</th>\n",
       "      <td>A1</td>\n",
       "      <td>76</td>\n",
       "      <td>BANGALORE</td>\n",
       "      <td>Gold</td>\n",
       "      <td>500000.0</td>\n",
       "      <td>C1</td>\n",
       "      <td>Self Employed</td>\n",
       "      <td>2004-01-12</td>\n",
       "      <td>495414.75</td>\n",
       "    </tr>\n",
       "    <tr>\n",
       "      <th>1</th>\n",
       "      <td>A1</td>\n",
       "      <td>76</td>\n",
       "      <td>BANGALORE</td>\n",
       "      <td>Gold</td>\n",
       "      <td>500000.0</td>\n",
       "      <td>C1</td>\n",
       "      <td>Self Employed</td>\n",
       "      <td>2004-01-03</td>\n",
       "      <td>245899.02</td>\n",
       "    </tr>\n",
       "    <tr>\n",
       "      <th>2</th>\n",
       "      <td>A1</td>\n",
       "      <td>76</td>\n",
       "      <td>BANGALORE</td>\n",
       "      <td>Gold</td>\n",
       "      <td>500000.0</td>\n",
       "      <td>C1</td>\n",
       "      <td>Self Employed</td>\n",
       "      <td>2004-01-15</td>\n",
       "      <td>259490.06</td>\n",
       "    </tr>\n",
       "    <tr>\n",
       "      <th>3</th>\n",
       "      <td>A1</td>\n",
       "      <td>76</td>\n",
       "      <td>BANGALORE</td>\n",
       "      <td>Gold</td>\n",
       "      <td>500000.0</td>\n",
       "      <td>C1</td>\n",
       "      <td>Self Employed</td>\n",
       "      <td>2004-01-25</td>\n",
       "      <td>437555.12</td>\n",
       "    </tr>\n",
       "    <tr>\n",
       "      <th>4</th>\n",
       "      <td>A1</td>\n",
       "      <td>76</td>\n",
       "      <td>BANGALORE</td>\n",
       "      <td>Gold</td>\n",
       "      <td>500000.0</td>\n",
       "      <td>C1</td>\n",
       "      <td>Self Employed</td>\n",
       "      <td>2005-01-17</td>\n",
       "      <td>165972.88</td>\n",
       "    </tr>\n",
       "    <tr>\n",
       "      <th>...</th>\n",
       "      <td>...</td>\n",
       "      <td>...</td>\n",
       "      <td>...</td>\n",
       "      <td>...</td>\n",
       "      <td>...</td>\n",
       "      <td>...</td>\n",
       "      <td>...</td>\n",
       "      <td>...</td>\n",
       "      <td>...</td>\n",
       "    </tr>\n",
       "    <tr>\n",
       "      <th>1495</th>\n",
       "      <td>A96</td>\n",
       "      <td>54</td>\n",
       "      <td>CHENNAI</td>\n",
       "      <td>Silver</td>\n",
       "      <td>100000.0</td>\n",
       "      <td>C19</td>\n",
       "      <td>Salaried_Pvt</td>\n",
       "      <td>2004-01-25</td>\n",
       "      <td>100000.00</td>\n",
       "    </tr>\n",
       "    <tr>\n",
       "      <th>1496</th>\n",
       "      <td>A97</td>\n",
       "      <td>58</td>\n",
       "      <td>TRIVANDRUM</td>\n",
       "      <td>Platimum</td>\n",
       "      <td>10000.0</td>\n",
       "      <td>C20</td>\n",
       "      <td>Govt</td>\n",
       "      <td>2004-01-12</td>\n",
       "      <td>10000.00</td>\n",
       "    </tr>\n",
       "    <tr>\n",
       "      <th>1497</th>\n",
       "      <td>A98</td>\n",
       "      <td>51</td>\n",
       "      <td>CALCUTTA</td>\n",
       "      <td>Platimum</td>\n",
       "      <td>10001.0</td>\n",
       "      <td>C21</td>\n",
       "      <td>Normal Salary</td>\n",
       "      <td>2004-01-03</td>\n",
       "      <td>10001.00</td>\n",
       "    </tr>\n",
       "    <tr>\n",
       "      <th>1498</th>\n",
       "      <td>A99</td>\n",
       "      <td>35</td>\n",
       "      <td>CALCUTTA</td>\n",
       "      <td>Platimum</td>\n",
       "      <td>10002.0</td>\n",
       "      <td>C22</td>\n",
       "      <td>Self Employed</td>\n",
       "      <td>2004-01-15</td>\n",
       "      <td>10002.00</td>\n",
       "    </tr>\n",
       "    <tr>\n",
       "      <th>1499</th>\n",
       "      <td>A100</td>\n",
       "      <td>36</td>\n",
       "      <td>COCHIN</td>\n",
       "      <td>Silver</td>\n",
       "      <td>100000.0</td>\n",
       "      <td>C5</td>\n",
       "      <td>Salaried_MNC</td>\n",
       "      <td>2004-01-25</td>\n",
       "      <td>69551.19</td>\n",
       "    </tr>\n",
       "  </tbody>\n",
       "</table>\n",
       "<p>1500 rows × 9 columns</p>\n",
       "</div>"
      ],
      "text/plain": [
       "     Customer  Age        City   Product     Limit Company        Segment  \\\n",
       "0          A1   76   BANGALORE      Gold  500000.0      C1  Self Employed   \n",
       "1          A1   76   BANGALORE      Gold  500000.0      C1  Self Employed   \n",
       "2          A1   76   BANGALORE      Gold  500000.0      C1  Self Employed   \n",
       "3          A1   76   BANGALORE      Gold  500000.0      C1  Self Employed   \n",
       "4          A1   76   BANGALORE      Gold  500000.0      C1  Self Employed   \n",
       "...       ...  ...         ...       ...       ...     ...            ...   \n",
       "1495      A96   54     CHENNAI    Silver  100000.0     C19   Salaried_Pvt   \n",
       "1496      A97   58  TRIVANDRUM  Platimum   10000.0     C20           Govt   \n",
       "1497      A98   51    CALCUTTA  Platimum   10001.0     C21  Normal Salary   \n",
       "1498      A99   35    CALCUTTA  Platimum   10002.0     C22  Self Employed   \n",
       "1499     A100   36      COCHIN    Silver  100000.0      C5   Salaried_MNC   \n",
       "\n",
       "          Month  Repayment_Amount  \n",
       "0    2004-01-12         495414.75  \n",
       "1    2004-01-03         245899.02  \n",
       "2    2004-01-15         259490.06  \n",
       "3    2004-01-25         437555.12  \n",
       "4    2005-01-17         165972.88  \n",
       "...         ...               ...  \n",
       "1495 2004-01-25         100000.00  \n",
       "1496 2004-01-12          10000.00  \n",
       "1497 2004-01-03          10001.00  \n",
       "1498 2004-01-15          10002.00  \n",
       "1499 2004-01-25          69551.19  \n",
       "\n",
       "[1500 rows x 9 columns]"
      ]
     },
     "execution_count": 20,
     "metadata": {},
     "output_type": "execute_result"
    }
   ],
   "source": [
    "CR=pd.merge(left=customer,right=repayment,on='Customer')\n",
    "CR.Amount=np.where(CR.Amount>CR.Limit,CR.Limit,CR.Amount)\n",
    "CR=CR.rename(columns={'Amount':'Repayment_Amount'})\n",
    "CR\n"
   ]
  },
  {
   "cell_type": "code",
   "execution_count": 21,
   "id": "ca170b72",
   "metadata": {},
   "outputs": [
    {
     "data": {
      "text/plain": [
       "0"
      ]
     },
     "execution_count": 21,
     "metadata": {},
     "output_type": "execute_result"
    }
   ],
   "source": [
    "(CR.Repayment_Amount>CR.Limit).sum()"
   ]
  },
  {
   "cell_type": "markdown",
   "id": "8354ad8e",
   "metadata": {},
   "source": [
    "### 2. From the above dataset create the following summaries:\n",
    "#### a. How many distinct customers exist?\n",
    " \n"
   ]
  },
  {
   "cell_type": "code",
   "execution_count": 22,
   "id": "9f3507d7",
   "metadata": {},
   "outputs": [
    {
     "name": "stdout",
     "output_type": "stream",
     "text": [
      "Number of distint customers :  100\n"
     ]
    }
   ],
   "source": [
    "print('Number of distint customers : ',customer.Customer.nunique())\n"
   ]
  },
  {
   "cell_type": "markdown",
   "id": "d0a1c90a",
   "metadata": {},
   "source": [
    "#### b. How many distinct categories exist?\n"
   ]
  },
  {
   "cell_type": "code",
   "execution_count": 23,
   "id": "948805ef",
   "metadata": {},
   "outputs": [
    {
     "name": "stdout",
     "output_type": "stream",
     "text": [
      "Number of distint categories by segment :  5\n",
      "No\n",
      "1    Self Employed\n",
      "2     Salaried_MNC\n",
      "3     Salaried_Pvt\n",
      "4             Govt\n",
      "5    Normal Salary\n",
      "Name: Segment, dtype: object\n"
     ]
    }
   ],
   "source": [
    " # by segment\n",
    "print('Number of distint categories by segment : ',customer.Segment.nunique())\n",
    "print(customer.Segment.drop_duplicates())"
   ]
  },
  {
   "cell_type": "code",
   "execution_count": 24,
   "id": "c106eb63",
   "metadata": {},
   "outputs": [
    {
     "name": "stdout",
     "output_type": "stream",
     "text": [
      "Number of distint categories by Product  :  3\n",
      "No\n",
      "1        Gold\n",
      "2      Silver\n",
      "3    Platimum\n",
      "Name: Product, dtype: object\n"
     ]
    }
   ],
   "source": [
    "# by product\n",
    "print('Number of distint categories by Product  : ',customer.Product.nunique())\n",
    "print(customer.Product.drop_duplicates())"
   ]
  },
  {
   "cell_type": "markdown",
   "id": "1eba4280",
   "metadata": {},
   "source": [
    "#### c. What is the average monthly spend by customers?"
   ]
  },
  {
   "cell_type": "code",
   "execution_count": 25,
   "id": "dfdaacb4",
   "metadata": {},
   "outputs": [
    {
     "data": {
      "text/html": [
       "<div>\n",
       "<style scoped>\n",
       "    .dataframe tbody tr th:only-of-type {\n",
       "        vertical-align: middle;\n",
       "    }\n",
       "\n",
       "    .dataframe tbody tr th {\n",
       "        vertical-align: top;\n",
       "    }\n",
       "\n",
       "    .dataframe thead th {\n",
       "        text-align: right;\n",
       "    }\n",
       "</style>\n",
       "<table border=\"1\" class=\"dataframe\">\n",
       "  <thead>\n",
       "    <tr style=\"text-align: right;\">\n",
       "      <th></th>\n",
       "      <th>Year</th>\n",
       "      <th>Month</th>\n",
       "      <th>Spend_Amount</th>\n",
       "    </tr>\n",
       "  </thead>\n",
       "  <tbody>\n",
       "    <tr>\n",
       "      <th>0</th>\n",
       "      <td>2004</td>\n",
       "      <td>April</td>\n",
       "      <td>124621.976429</td>\n",
       "    </tr>\n",
       "    <tr>\n",
       "      <th>1</th>\n",
       "      <td>2004</td>\n",
       "      <td>February</td>\n",
       "      <td>136998.280000</td>\n",
       "    </tr>\n",
       "    <tr>\n",
       "      <th>2</th>\n",
       "      <td>2004</td>\n",
       "      <td>January</td>\n",
       "      <td>144233.915179</td>\n",
       "    </tr>\n",
       "    <tr>\n",
       "      <th>3</th>\n",
       "      <td>2004</td>\n",
       "      <td>March</td>\n",
       "      <td>133708.090714</td>\n",
       "    </tr>\n",
       "    <tr>\n",
       "      <th>4</th>\n",
       "      <td>2004</td>\n",
       "      <td>May</td>\n",
       "      <td>153326.954286</td>\n",
       "    </tr>\n",
       "  </tbody>\n",
       "</table>\n",
       "</div>"
      ],
      "text/plain": [
       "   Year     Month   Spend_Amount\n",
       "0  2004     April  124621.976429\n",
       "1  2004  February  136998.280000\n",
       "2  2004   January  144233.915179\n",
       "3  2004     March  133708.090714\n",
       "4  2004       May  153326.954286"
      ]
     },
     "execution_count": 25,
     "metadata": {},
     "output_type": "execute_result"
    }
   ],
   "source": [
    "avg_spend=CS.groupby([CS.Month.dt.year,CS.Month.dt.month_name()])[['Spend_Amount']].mean()\n",
    "avg_spend=avg_spend.rename_axis(['Year','Month']).reset_index()\n",
    "avg_spend.head()"
   ]
  },
  {
   "cell_type": "markdown",
   "id": "eb106a58",
   "metadata": {},
   "source": [
    "#### d. What is the average monthly repayment by customers?"
   ]
  },
  {
   "cell_type": "code",
   "execution_count": 26,
   "id": "9983950c",
   "metadata": {},
   "outputs": [
    {
     "data": {
      "text/html": [
       "<div>\n",
       "<style scoped>\n",
       "    .dataframe tbody tr th:only-of-type {\n",
       "        vertical-align: middle;\n",
       "    }\n",
       "\n",
       "    .dataframe tbody tr th {\n",
       "        vertical-align: top;\n",
       "    }\n",
       "\n",
       "    .dataframe thead th {\n",
       "        text-align: right;\n",
       "    }\n",
       "</style>\n",
       "<table border=\"1\" class=\"dataframe\">\n",
       "  <thead>\n",
       "    <tr style=\"text-align: right;\">\n",
       "      <th></th>\n",
       "      <th>Year</th>\n",
       "      <th>Month</th>\n",
       "      <th>Repayment_Amount</th>\n",
       "    </tr>\n",
       "  </thead>\n",
       "  <tbody>\n",
       "    <tr>\n",
       "      <th>0</th>\n",
       "      <td>2004</td>\n",
       "      <td>April</td>\n",
       "      <td>175632.658000</td>\n",
       "    </tr>\n",
       "    <tr>\n",
       "      <th>1</th>\n",
       "      <td>2004</td>\n",
       "      <td>February</td>\n",
       "      <td>125612.505556</td>\n",
       "    </tr>\n",
       "    <tr>\n",
       "      <th>2</th>\n",
       "      <td>2004</td>\n",
       "      <td>January</td>\n",
       "      <td>159971.502571</td>\n",
       "    </tr>\n",
       "    <tr>\n",
       "      <th>3</th>\n",
       "      <td>2004</td>\n",
       "      <td>March</td>\n",
       "      <td>177767.948000</td>\n",
       "    </tr>\n",
       "    <tr>\n",
       "      <th>4</th>\n",
       "      <td>2004</td>\n",
       "      <td>May</td>\n",
       "      <td>151310.396400</td>\n",
       "    </tr>\n",
       "  </tbody>\n",
       "</table>\n",
       "</div>"
      ],
      "text/plain": [
       "   Year     Month  Repayment_Amount\n",
       "0  2004     April     175632.658000\n",
       "1  2004  February     125612.505556\n",
       "2  2004   January     159971.502571\n",
       "3  2004     March     177767.948000\n",
       "4  2004       May     151310.396400"
      ]
     },
     "execution_count": 26,
     "metadata": {},
     "output_type": "execute_result"
    }
   ],
   "source": [
    "avg_repayment=CR.groupby([CR.Month.dt.year,CR.Month.dt.month_name()])[['Repayment_Amount']].mean()\n",
    "avg_repayment=avg_repayment.rename_axis(['Year','Month']).reset_index()\n",
    "avg_repayment.head()"
   ]
  },
  {
   "cell_type": "markdown",
   "id": "d85cf019",
   "metadata": {},
   "source": [
    "#### e. If the monthly rate of interest is 2.9%, what is the profit for the bank for each month? (Profit is defined as interest earned on Monthly Profit. Monthly Profit = Monthly repayment– Monthly spend. Interest is earned only on positive profits and not on negative amounts)\n"
   ]
  },
  {
   "cell_type": "code",
   "execution_count": 27,
   "id": "6d0fe5f8",
   "metadata": {},
   "outputs": [
    {
     "data": {
      "text/html": [
       "<div>\n",
       "<style scoped>\n",
       "    .dataframe tbody tr th:only-of-type {\n",
       "        vertical-align: middle;\n",
       "    }\n",
       "\n",
       "    .dataframe tbody tr th {\n",
       "        vertical-align: top;\n",
       "    }\n",
       "\n",
       "    .dataframe thead th {\n",
       "        text-align: right;\n",
       "    }\n",
       "</style>\n",
       "<table border=\"1\" class=\"dataframe\">\n",
       "  <thead>\n",
       "    <tr style=\"text-align: right;\">\n",
       "      <th></th>\n",
       "      <th>Year</th>\n",
       "      <th>Month</th>\n",
       "      <th>Spend_Amount</th>\n",
       "      <th>Repayment_Amount</th>\n",
       "      <th>Monthly Profit</th>\n",
       "      <th>Profit</th>\n",
       "    </tr>\n",
       "  </thead>\n",
       "  <tbody>\n",
       "    <tr>\n",
       "      <th>0</th>\n",
       "      <td>2004</td>\n",
       "      <td>April</td>\n",
       "      <td>124621.976429</td>\n",
       "      <td>175632.658000</td>\n",
       "      <td>51010.681571</td>\n",
       "      <td>1479.309766</td>\n",
       "    </tr>\n",
       "    <tr>\n",
       "      <th>1</th>\n",
       "      <td>2004</td>\n",
       "      <td>February</td>\n",
       "      <td>136998.280000</td>\n",
       "      <td>125612.505556</td>\n",
       "      <td>-11385.774444</td>\n",
       "      <td>0.000000</td>\n",
       "    </tr>\n",
       "    <tr>\n",
       "      <th>2</th>\n",
       "      <td>2004</td>\n",
       "      <td>January</td>\n",
       "      <td>144233.915179</td>\n",
       "      <td>159971.502571</td>\n",
       "      <td>15737.587392</td>\n",
       "      <td>456.390034</td>\n",
       "    </tr>\n",
       "    <tr>\n",
       "      <th>3</th>\n",
       "      <td>2004</td>\n",
       "      <td>March</td>\n",
       "      <td>133708.090714</td>\n",
       "      <td>177767.948000</td>\n",
       "      <td>44059.857286</td>\n",
       "      <td>1277.735861</td>\n",
       "    </tr>\n",
       "    <tr>\n",
       "      <th>4</th>\n",
       "      <td>2004</td>\n",
       "      <td>May</td>\n",
       "      <td>153326.954286</td>\n",
       "      <td>151310.396400</td>\n",
       "      <td>-2016.557886</td>\n",
       "      <td>0.000000</td>\n",
       "    </tr>\n",
       "  </tbody>\n",
       "</table>\n",
       "</div>"
      ],
      "text/plain": [
       "   Year     Month   Spend_Amount  Repayment_Amount  Monthly Profit  \\\n",
       "0  2004     April  124621.976429     175632.658000    51010.681571   \n",
       "1  2004  February  136998.280000     125612.505556   -11385.774444   \n",
       "2  2004   January  144233.915179     159971.502571    15737.587392   \n",
       "3  2004     March  133708.090714     177767.948000    44059.857286   \n",
       "4  2004       May  153326.954286     151310.396400    -2016.557886   \n",
       "\n",
       "        Profit  \n",
       "0  1479.309766  \n",
       "1     0.000000  \n",
       "2   456.390034  \n",
       "3  1277.735861  \n",
       "4     0.000000  "
      ]
     },
     "execution_count": 27,
     "metadata": {},
     "output_type": "execute_result"
    }
   ],
   "source": [
    "e=pd.merge(left=avg_spend,right=avg_repayment,on=['Year','Month'])\n",
    "e['Monthly Profit']=e.Repayment_Amount-e.Spend_Amount\n",
    "e['Profit']=np.where(e['Monthly Profit']>0,2.9*(e['Monthly Profit'])/100,0)\n",
    "e.head()"
   ]
  },
  {
   "cell_type": "markdown",
   "id": "4e285964",
   "metadata": {},
   "source": [
    "#### f. What are the top 5 product types?"
   ]
  },
  {
   "cell_type": "code",
   "execution_count": 28,
   "id": "3c061cee",
   "metadata": {},
   "outputs": [
    {
     "data": {
      "text/plain": [
       "0           PETRO\n",
       "1          CAMERA\n",
       "2            FOOD\n",
       "3      AIR TICKET\n",
       "4    TRAIN TICKET\n",
       "Name: Type, dtype: object"
      ]
     },
     "execution_count": 28,
     "metadata": {},
     "output_type": "execute_result"
    }
   ],
   "source": [
    "CS.groupby('Type')['Spend_Amount'].count().reset_index().sort_values(by='Spend_Amount',ascending=False).head(5).reset_index(drop=True).iloc[:,0]"
   ]
  },
  {
   "cell_type": "markdown",
   "id": "a5c089ea",
   "metadata": {},
   "source": [
    "#### g. Which city is having maximum spend?"
   ]
  },
  {
   "cell_type": "code",
   "execution_count": 29,
   "id": "af728c1a",
   "metadata": {},
   "outputs": [
    {
     "data": {
      "text/plain": [
       "'COCHIN'"
      ]
     },
     "execution_count": 29,
     "metadata": {},
     "output_type": "execute_result"
    }
   ],
   "source": [
    "CS.groupby('City')[['Spend_Amount']].sum().sort_values(by='Spend_Amount',ascending=False).head(1).index[0]"
   ]
  },
  {
   "cell_type": "markdown",
   "id": "5072cfee",
   "metadata": {},
   "source": [
    "#### h. Which age group is spending more money?"
   ]
  },
  {
   "cell_type": "code",
   "execution_count": 30,
   "id": "80c245fa",
   "metadata": {},
   "outputs": [
    {
     "data": {
      "text/plain": [
       "'41-50'"
      ]
     },
     "execution_count": 30,
     "metadata": {},
     "output_type": "execute_result"
    }
   ],
   "source": [
    "Age_range=[18,30,40,50,60,70,80]\n",
    "labels=['18-30','31-40','41-50','51-60','61-70','71-80']\n",
    "CS['Age group']=pd.cut(CS['Age'],bins=Age_range,labels=labels)\n",
    "CS.groupby('Age group')[['Spend_Amount']].sum().sort_values(by='Spend_Amount',ascending=False).index[0]"
   ]
  },
  {
   "cell_type": "markdown",
   "id": "26813b11",
   "metadata": {},
   "source": [
    "#### i. Who are the top 10 customers in terms of repayment?"
   ]
  },
  {
   "cell_type": "code",
   "execution_count": 31,
   "id": "6af8a708",
   "metadata": {},
   "outputs": [
    {
     "data": {
      "text/html": [
       "<div>\n",
       "<style scoped>\n",
       "    .dataframe tbody tr th:only-of-type {\n",
       "        vertical-align: middle;\n",
       "    }\n",
       "\n",
       "    .dataframe tbody tr th {\n",
       "        vertical-align: top;\n",
       "    }\n",
       "\n",
       "    .dataframe thead th {\n",
       "        text-align: right;\n",
       "    }\n",
       "</style>\n",
       "<table border=\"1\" class=\"dataframe\">\n",
       "  <thead>\n",
       "    <tr style=\"text-align: right;\">\n",
       "      <th></th>\n",
       "      <th>Repayment_Amount</th>\n",
       "    </tr>\n",
       "    <tr>\n",
       "      <th>Customer</th>\n",
       "      <th></th>\n",
       "    </tr>\n",
       "  </thead>\n",
       "  <tbody>\n",
       "    <tr>\n",
       "      <th>A61</th>\n",
       "      <td>10539142.91</td>\n",
       "    </tr>\n",
       "    <tr>\n",
       "      <th>A60</th>\n",
       "      <td>9876290.74</td>\n",
       "    </tr>\n",
       "    <tr>\n",
       "      <th>A13</th>\n",
       "      <td>9572000.66</td>\n",
       "    </tr>\n",
       "    <tr>\n",
       "      <th>A43</th>\n",
       "      <td>8489871.46</td>\n",
       "    </tr>\n",
       "    <tr>\n",
       "      <th>A45</th>\n",
       "      <td>8448334.87</td>\n",
       "    </tr>\n",
       "    <tr>\n",
       "      <th>A12</th>\n",
       "      <td>8334760.16</td>\n",
       "    </tr>\n",
       "    <tr>\n",
       "      <th>A14</th>\n",
       "      <td>7943268.63</td>\n",
       "    </tr>\n",
       "    <tr>\n",
       "      <th>A44</th>\n",
       "      <td>7744730.12</td>\n",
       "    </tr>\n",
       "    <tr>\n",
       "      <th>A39</th>\n",
       "      <td>7622483.30</td>\n",
       "    </tr>\n",
       "    <tr>\n",
       "      <th>A42</th>\n",
       "      <td>7615460.86</td>\n",
       "    </tr>\n",
       "  </tbody>\n",
       "</table>\n",
       "</div>"
      ],
      "text/plain": [
       "          Repayment_Amount\n",
       "Customer                  \n",
       "A61            10539142.91\n",
       "A60             9876290.74\n",
       "A13             9572000.66\n",
       "A43             8489871.46\n",
       "A45             8448334.87\n",
       "A12             8334760.16\n",
       "A14             7943268.63\n",
       "A44             7744730.12\n",
       "A39             7622483.30\n",
       "A42             7615460.86"
      ]
     },
     "execution_count": 31,
     "metadata": {},
     "output_type": "execute_result"
    }
   ],
   "source": [
    "CR.groupby('Customer')[['Repayment_Amount']].sum().sort_values(by='Repayment_Amount',ascending=False).head(10)"
   ]
  },
  {
   "cell_type": "markdown",
   "id": "4067cd25",
   "metadata": {},
   "source": [
    "### 3. Calculate the city wise spend on each product on yearly basis. Also include a graphical representation for the same."
   ]
  },
  {
   "cell_type": "code",
   "execution_count": 32,
   "id": "36e7370f",
   "metadata": {},
   "outputs": [],
   "source": [
    "CS['Yearly_Spend']=CS['Month'].apply(lambda x:x.year)"
   ]
  },
  {
   "cell_type": "code",
   "execution_count": 33,
   "id": "1a50f1a2",
   "metadata": {},
   "outputs": [],
   "source": [
    "City_Wise_Data = pd.pivot_table(data = CS, index = 'City', columns=['Product','Yearly_Spend'], \n",
    "               values='Spend_Amount', aggfunc='sum')\n"
   ]
  },
  {
   "cell_type": "code",
   "execution_count": 34,
   "id": "7e5b082b",
   "metadata": {},
   "outputs": [
    {
     "data": {
      "text/html": [
       "<div>\n",
       "<style scoped>\n",
       "    .dataframe tbody tr th:only-of-type {\n",
       "        vertical-align: middle;\n",
       "    }\n",
       "\n",
       "    .dataframe tbody tr th {\n",
       "        vertical-align: top;\n",
       "    }\n",
       "\n",
       "    .dataframe thead tr th {\n",
       "        text-align: left;\n",
       "    }\n",
       "\n",
       "    .dataframe thead tr:last-of-type th {\n",
       "        text-align: right;\n",
       "    }\n",
       "</style>\n",
       "<table border=\"1\" class=\"dataframe\">\n",
       "  <thead>\n",
       "    <tr>\n",
       "      <th>Product</th>\n",
       "      <th colspan=\"3\" halign=\"left\">Gold</th>\n",
       "      <th colspan=\"3\" halign=\"left\">Platimum</th>\n",
       "      <th colspan=\"3\" halign=\"left\">Silver</th>\n",
       "    </tr>\n",
       "    <tr>\n",
       "      <th>Yearly_Spend</th>\n",
       "      <th>2004</th>\n",
       "      <th>2005</th>\n",
       "      <th>2006</th>\n",
       "      <th>2004</th>\n",
       "      <th>2005</th>\n",
       "      <th>2006</th>\n",
       "      <th>2004</th>\n",
       "      <th>2005</th>\n",
       "      <th>2006</th>\n",
       "    </tr>\n",
       "    <tr>\n",
       "      <th>City</th>\n",
       "      <th></th>\n",
       "      <th></th>\n",
       "      <th></th>\n",
       "      <th></th>\n",
       "      <th></th>\n",
       "      <th></th>\n",
       "      <th></th>\n",
       "      <th></th>\n",
       "      <th></th>\n",
       "    </tr>\n",
       "  </thead>\n",
       "  <tbody>\n",
       "    <tr>\n",
       "      <th>BANGALORE</th>\n",
       "      <td>9289878.54</td>\n",
       "      <td>12892362.99</td>\n",
       "      <td>12030611.09</td>\n",
       "      <td>1112732.30</td>\n",
       "      <td>912284.97</td>\n",
       "      <td>685831.27</td>\n",
       "      <td>1291852.58</td>\n",
       "      <td>830612.34</td>\n",
       "      <td>1415480.94</td>\n",
       "    </tr>\n",
       "    <tr>\n",
       "      <th>BOMBAY</th>\n",
       "      <td>6987853.53</td>\n",
       "      <td>8983018.28</td>\n",
       "      <td>7917144.31</td>\n",
       "      <td>897264.94</td>\n",
       "      <td>711804.94</td>\n",
       "      <td>972130.01</td>\n",
       "      <td>532089.03</td>\n",
       "      <td>508988.54</td>\n",
       "      <td>1092833.80</td>\n",
       "    </tr>\n",
       "  </tbody>\n",
       "</table>\n",
       "</div>"
      ],
      "text/plain": [
       "Product             Gold                              Platimum             \\\n",
       "Yearly_Spend        2004         2005         2006        2004       2005   \n",
       "City                                                                        \n",
       "BANGALORE     9289878.54  12892362.99  12030611.09  1112732.30  912284.97   \n",
       "BOMBAY        6987853.53   8983018.28   7917144.31   897264.94  711804.94   \n",
       "\n",
       "Product                      Silver                         \n",
       "Yearly_Spend       2006        2004       2005        2006  \n",
       "City                                                        \n",
       "BANGALORE     685831.27  1291852.58  830612.34  1415480.94  \n",
       "BOMBAY        972130.01   532089.03  508988.54  1092833.80  "
      ]
     },
     "execution_count": 34,
     "metadata": {},
     "output_type": "execute_result"
    }
   ],
   "source": [
    "City_Wise_Data.head(2)"
   ]
  },
  {
   "cell_type": "code",
   "execution_count": 35,
   "id": "1be44173",
   "metadata": {},
   "outputs": [
    {
     "data": {
      "image/png": "[encoded data removed]",
      "text/plain": [
       "<Figure size 640x480 with 1 Axes>"
      ]
     },
     "metadata": {},
     "output_type": "display_data"
    }
   ],
   "source": [
    "City_Wise_Data.plot(kind='bar',stacked=True)\n",
    "plt.show()"
   ]
  },
  {
   "cell_type": "markdown",
   "id": "9908adb9",
   "metadata": {},
   "source": [
    "### 4. Create graphs for\n",
    "#### a. Monthly comparison of total spends, city wise"
   ]
  },
  {
   "cell_type": "code",
   "execution_count": 36,
   "id": "2445782b",
   "metadata": {},
   "outputs": [],
   "source": [
    "CS['Monthly_Spend']=CS.Month.apply(lambda x:x.month)"
   ]
  },
  {
   "cell_type": "code",
   "execution_count": 37,
   "id": "467a4fd6",
   "metadata": {},
   "outputs": [
    {
     "data": {
      "text/plain": [
       "<AxesSubplot:xlabel='City'>"
      ]
     },
     "execution_count": 37,
     "metadata": {},
     "output_type": "execute_result"
    },
    {
     "data": {
      "image/png": "[encoded data removed]",
      "text/plain": [
       "<Figure size 640x480 with 1 Axes>"
      ]
     },
     "metadata": {},
     "output_type": "display_data"
    }
   ],
   "source": [
    "pd.pivot_table(data = CS, index = 'City', columns='Monthly_Spend', \n",
    "               values='Spend_Amount', aggfunc='sum').plot(kind='bar',stacked=True)"
   ]
  },
  {
   "cell_type": "markdown",
   "id": "d3bfd831",
   "metadata": {},
   "source": [
    "#### b .Comparison of yearly spend on air tickets"
   ]
  },
  {
   "cell_type": "code",
   "execution_count": 38,
   "id": "075282e7",
   "metadata": {},
   "outputs": [
    {
     "data": {
      "text/html": [
       "<div>\n",
       "<style scoped>\n",
       "    .dataframe tbody tr th:only-of-type {\n",
       "        vertical-align: middle;\n",
       "    }\n",
       "\n",
       "    .dataframe tbody tr th {\n",
       "        vertical-align: top;\n",
       "    }\n",
       "\n",
       "    .dataframe thead th {\n",
       "        text-align: right;\n",
       "    }\n",
       "</style>\n",
       "<table border=\"1\" class=\"dataframe\">\n",
       "  <thead>\n",
       "    <tr style=\"text-align: right;\">\n",
       "      <th></th>\n",
       "      <th>Customer</th>\n",
       "      <th>Age</th>\n",
       "      <th>City</th>\n",
       "      <th>Product</th>\n",
       "      <th>Limit</th>\n",
       "      <th>Company</th>\n",
       "      <th>Segment</th>\n",
       "      <th>Month</th>\n",
       "      <th>Type</th>\n",
       "      <th>Spend_Amount</th>\n",
       "      <th>Age group</th>\n",
       "      <th>Yearly_Spend</th>\n",
       "      <th>Monthly_Spend</th>\n",
       "    </tr>\n",
       "  </thead>\n",
       "  <tbody>\n",
       "    <tr>\n",
       "      <th>0</th>\n",
       "      <td>A1</td>\n",
       "      <td>76</td>\n",
       "      <td>BANGALORE</td>\n",
       "      <td>Gold</td>\n",
       "      <td>500000.0</td>\n",
       "      <td>C1</td>\n",
       "      <td>Self Employed</td>\n",
       "      <td>2004-01-12</td>\n",
       "      <td>JEWELLERY</td>\n",
       "      <td>485470.80</td>\n",
       "      <td>71-80</td>\n",
       "      <td>2004</td>\n",
       "      <td>1</td>\n",
       "    </tr>\n",
       "    <tr>\n",
       "      <th>1</th>\n",
       "      <td>A1</td>\n",
       "      <td>76</td>\n",
       "      <td>BANGALORE</td>\n",
       "      <td>Gold</td>\n",
       "      <td>500000.0</td>\n",
       "      <td>C1</td>\n",
       "      <td>Self Employed</td>\n",
       "      <td>2004-01-03</td>\n",
       "      <td>PETRO</td>\n",
       "      <td>410556.13</td>\n",
       "      <td>71-80</td>\n",
       "      <td>2004</td>\n",
       "      <td>1</td>\n",
       "    </tr>\n",
       "    <tr>\n",
       "      <th>2</th>\n",
       "      <td>A1</td>\n",
       "      <td>76</td>\n",
       "      <td>BANGALORE</td>\n",
       "      <td>Gold</td>\n",
       "      <td>500000.0</td>\n",
       "      <td>C1</td>\n",
       "      <td>Self Employed</td>\n",
       "      <td>2004-01-15</td>\n",
       "      <td>CLOTHES</td>\n",
       "      <td>23740.46</td>\n",
       "      <td>71-80</td>\n",
       "      <td>2004</td>\n",
       "      <td>1</td>\n",
       "    </tr>\n",
       "    <tr>\n",
       "      <th>3</th>\n",
       "      <td>A1</td>\n",
       "      <td>76</td>\n",
       "      <td>BANGALORE</td>\n",
       "      <td>Gold</td>\n",
       "      <td>500000.0</td>\n",
       "      <td>C1</td>\n",
       "      <td>Self Employed</td>\n",
       "      <td>2004-01-25</td>\n",
       "      <td>FOOD</td>\n",
       "      <td>484342.47</td>\n",
       "      <td>71-80</td>\n",
       "      <td>2004</td>\n",
       "      <td>1</td>\n",
       "    </tr>\n",
       "    <tr>\n",
       "      <th>4</th>\n",
       "      <td>A1</td>\n",
       "      <td>76</td>\n",
       "      <td>BANGALORE</td>\n",
       "      <td>Gold</td>\n",
       "      <td>500000.0</td>\n",
       "      <td>C1</td>\n",
       "      <td>Self Employed</td>\n",
       "      <td>2005-01-17</td>\n",
       "      <td>CAMERA</td>\n",
       "      <td>369694.07</td>\n",
       "      <td>71-80</td>\n",
       "      <td>2005</td>\n",
       "      <td>1</td>\n",
       "    </tr>\n",
       "  </tbody>\n",
       "</table>\n",
       "</div>"
      ],
      "text/plain": [
       "  Customer  Age       City Product     Limit Company        Segment  \\\n",
       "0       A1   76  BANGALORE    Gold  500000.0      C1  Self Employed   \n",
       "1       A1   76  BANGALORE    Gold  500000.0      C1  Self Employed   \n",
       "2       A1   76  BANGALORE    Gold  500000.0      C1  Self Employed   \n",
       "3       A1   76  BANGALORE    Gold  500000.0      C1  Self Employed   \n",
       "4       A1   76  BANGALORE    Gold  500000.0      C1  Self Employed   \n",
       "\n",
       "       Month       Type  Spend_Amount Age group  Yearly_Spend  Monthly_Spend  \n",
       "0 2004-01-12  JEWELLERY     485470.80     71-80          2004              1  \n",
       "1 2004-01-03      PETRO     410556.13     71-80          2004              1  \n",
       "2 2004-01-15    CLOTHES      23740.46     71-80          2004              1  \n",
       "3 2004-01-25       FOOD     484342.47     71-80          2004              1  \n",
       "4 2005-01-17     CAMERA     369694.07     71-80          2005              1  "
      ]
     },
     "execution_count": 38,
     "metadata": {},
     "output_type": "execute_result"
    }
   ],
   "source": [
    "CS.head()"
   ]
  },
  {
   "cell_type": "code",
   "execution_count": 39,
   "id": "8fea90d3",
   "metadata": {},
   "outputs": [
    {
     "data": {
      "image/png": "[encoded data removed]",
      "text/plain": [
       "<Figure size 640x480 with 1 Axes>"
      ]
     },
     "metadata": {},
     "output_type": "display_data"
    }
   ],
   "source": [
    "pd.pivot_table(data = CS[CS.Type=='AIR TICKET'], index = 'Type', columns='Yearly_Spend', \n",
    "               values='Spend_Amount', aggfunc='sum').plot(kind='bar')\n",
    "plt.show()"
   ]
  },
  {
   "cell_type": "markdown",
   "id": "09e39248",
   "metadata": {},
   "source": [
    "#### c. Comparison of monthly spend for each product (look for any seasonality that exists in terms of spend)\n"
   ]
  },
  {
   "cell_type": "code",
   "execution_count": 40,
   "id": "f7237239",
   "metadata": {},
   "outputs": [
    {
     "data": {
      "text/plain": [
       "<AxesSubplot:xlabel='Product'>"
      ]
     },
     "execution_count": 40,
     "metadata": {},
     "output_type": "execute_result"
    },
    {
     "data": {
      "image/png": "[encoded data removed]",
      "text/plain": [
       "<Figure size 640x480 with 1 Axes>"
      ]
     },
     "metadata": {},
     "output_type": "display_data"
    }
   ],
   "source": [
    "pd.pivot_table(data = CS, index = 'Product', columns='Monthly_Spend', \n",
    "               values='Spend_Amount', aggfunc='sum').plot(kind='bar')"
   ]
  },
  {
   "cell_type": "code",
   "execution_count": 41,
   "id": "b6c1fd7d",
   "metadata": {},
   "outputs": [
    {
     "data": {
      "text/plain": [
       "<AxesSubplot:xlabel='Monthly_Spend'>"
      ]
     },
     "execution_count": 41,
     "metadata": {},
     "output_type": "execute_result"
    },
    {
     "data": {
      "image/png": "[encoded data removed]",
      "text/plain": [
       "<Figure size 640x480 with 1 Axes>"
      ]
     },
     "metadata": {},
     "output_type": "display_data"
    }
   ],
   "source": [
    "pd.pivot_table(data = CS, index = 'Monthly_Spend', columns='Product', \n",
    "               values='Spend_Amount', aggfunc='sum').plot(kind='bar')"
   ]
  },
  {
   "cell_type": "markdown",
   "id": "f9b48e92",
   "metadata": {},
   "source": [
    "###  Yes,seasonality that exists in terms of spend.We can see from the above both graphs that the sales are high for all the Products during the months:\n",
    "\n",
    "#### January\n",
    "#### February\n",
    "#### March\n",
    "#### April\n",
    "#### May\n",
    "### Out of these months,highest sales are in January"
   ]
  },
  {
   "cell_type": "markdown",
   "id": "e09d166b",
   "metadata": {},
   "source": [
    "#### 5. Write user defined PYTHON function to perform the following analysis:\n",
    "You need to find top 10 customers for each city in terms of their repayment amount bydifferent products and by different time periods i.e. year or month. The user should be able to specify the product (Gold/Silver/Platinum) and time period (yearly or monthly) and the function should automatically take these inputs while identifying the top 10 customers"
   ]
  },
  {
   "cell_type": "code",
   "execution_count": 42,
   "id": "126e5c36",
   "metadata": {},
   "outputs": [
    {
     "data": {
      "text/html": [
       "<div>\n",
       "<style scoped>\n",
       "    .dataframe tbody tr th:only-of-type {\n",
       "        vertical-align: middle;\n",
       "    }\n",
       "\n",
       "    .dataframe tbody tr th {\n",
       "        vertical-align: top;\n",
       "    }\n",
       "\n",
       "    .dataframe thead th {\n",
       "        text-align: right;\n",
       "    }\n",
       "</style>\n",
       "<table border=\"1\" class=\"dataframe\">\n",
       "  <thead>\n",
       "    <tr style=\"text-align: right;\">\n",
       "      <th></th>\n",
       "      <th>City</th>\n",
       "      <th>Year</th>\n",
       "      <th>Month</th>\n",
       "      <th>Customer</th>\n",
       "      <th>Repayment_Amount</th>\n",
       "    </tr>\n",
       "  </thead>\n",
       "  <tbody>\n",
       "    <tr>\n",
       "      <th>0</th>\n",
       "      <td>BANGALORE</td>\n",
       "      <td>2004</td>\n",
       "      <td>1</td>\n",
       "      <td>A1</td>\n",
       "      <td>2241833.41</td>\n",
       "    </tr>\n",
       "    <tr>\n",
       "      <th>1</th>\n",
       "      <td>BANGALORE</td>\n",
       "      <td>2004</td>\n",
       "      <td>1</td>\n",
       "      <td>A43</td>\n",
       "      <td>1906497.47</td>\n",
       "    </tr>\n",
       "    <tr>\n",
       "      <th>2</th>\n",
       "      <td>BANGALORE</td>\n",
       "      <td>2004</td>\n",
       "      <td>1</td>\n",
       "      <td>A13</td>\n",
       "      <td>1627668.57</td>\n",
       "    </tr>\n",
       "    <tr>\n",
       "      <th>3</th>\n",
       "      <td>BANGALORE</td>\n",
       "      <td>2004</td>\n",
       "      <td>1</td>\n",
       "      <td>A14</td>\n",
       "      <td>993114.87</td>\n",
       "    </tr>\n",
       "    <tr>\n",
       "      <th>4</th>\n",
       "      <td>BANGALORE</td>\n",
       "      <td>2004</td>\n",
       "      <td>1</td>\n",
       "      <td>A30</td>\n",
       "      <td>379512.30</td>\n",
       "    </tr>\n",
       "    <tr>\n",
       "      <th>...</th>\n",
       "      <td>...</td>\n",
       "      <td>...</td>\n",
       "      <td>...</td>\n",
       "      <td>...</td>\n",
       "      <td>...</td>\n",
       "    </tr>\n",
       "    <tr>\n",
       "      <th>300</th>\n",
       "      <td>TRIVANDRUM</td>\n",
       "      <td>2006</td>\n",
       "      <td>2</td>\n",
       "      <td>A28</td>\n",
       "      <td>318811.88</td>\n",
       "    </tr>\n",
       "    <tr>\n",
       "      <th>301</th>\n",
       "      <td>TRIVANDRUM</td>\n",
       "      <td>2006</td>\n",
       "      <td>3</td>\n",
       "      <td>A28</td>\n",
       "      <td>1547067.86</td>\n",
       "    </tr>\n",
       "    <tr>\n",
       "      <th>302</th>\n",
       "      <td>TRIVANDRUM</td>\n",
       "      <td>2006</td>\n",
       "      <td>4</td>\n",
       "      <td>A28</td>\n",
       "      <td>115326.71</td>\n",
       "    </tr>\n",
       "    <tr>\n",
       "      <th>303</th>\n",
       "      <td>TRIVANDRUM</td>\n",
       "      <td>2006</td>\n",
       "      <td>5</td>\n",
       "      <td>A28</td>\n",
       "      <td>930071.85</td>\n",
       "    </tr>\n",
       "    <tr>\n",
       "      <th>304</th>\n",
       "      <td>TRIVANDRUM</td>\n",
       "      <td>2006</td>\n",
       "      <td>7</td>\n",
       "      <td>A28</td>\n",
       "      <td>380460.40</td>\n",
       "    </tr>\n",
       "  </tbody>\n",
       "</table>\n",
       "<p>305 rows × 5 columns</p>\n",
       "</div>"
      ],
      "text/plain": [
       "           City  Year  Month Customer  Repayment_Amount\n",
       "0     BANGALORE  2004      1       A1        2241833.41\n",
       "1     BANGALORE  2004      1      A43        1906497.47\n",
       "2     BANGALORE  2004      1      A13        1627668.57\n",
       "3     BANGALORE  2004      1      A14         993114.87\n",
       "4     BANGALORE  2004      1      A30         379512.30\n",
       "..          ...   ...    ...      ...               ...\n",
       "300  TRIVANDRUM  2006      2      A28         318811.88\n",
       "301  TRIVANDRUM  2006      3      A28        1547067.86\n",
       "302  TRIVANDRUM  2006      4      A28         115326.71\n",
       "303  TRIVANDRUM  2006      5      A28         930071.85\n",
       "304  TRIVANDRUM  2006      7      A28         380460.40\n",
       "\n",
       "[305 rows x 5 columns]"
      ]
     },
     "execution_count": 42,
     "metadata": {},
     "output_type": "execute_result"
    }
   ],
   "source": [
    "def top10(product,Timeperiod):\n",
    "    if  product=='Gold' and Timeperiod=='monthly':\n",
    "        result=CR.query('Product==\"Gold\"').groupby(['City',CR.Month.dt.year.rename('Year'),CR.Month.dt.month,'Customer'])[['Repayment_Amount']].sum().sort_values(by=['City','Year','Month','Repayment_Amount'],ascending=[True,True,True,False]).reset_index()\n",
    "        return result.groupby(['City','Year','Month']).head(10)\n",
    "    if  product=='Gold' and Timeperiod=='yearly':\n",
    "        result=CR.query('Product==\"Gold\"').groupby(['City',CR.Month.dt.year.rename('Year'),'Customer'])[['Repayment_Amount']].sum().sort_values(by=['City','Year','Repayment_Amount'],ascending=[True,True,False]).reset_index()\n",
    "        return result.groupby(['City','Year','Month']).head(10)\n",
    "    if  product=='Silver' and Timeperiod=='monthly':\n",
    "        result=CR.query('Product==\"Silver\"').groupby(['City',CR.Month.dt.year.rename('Year'),CR.Month.dt.month,'Customer'])[['Repayment_Amount']].sum().sort_values(by=['City','Year','Month','Repayment_Amount'],ascending=[True,True,True,False]).reset_index()\n",
    "        return result.groupby(['City','Year','Month']).head(10)\n",
    "    if  product=='Silver' and Timeperiod=='yearly':\n",
    "        result=CR.query('Product==\"Silver\"').groupby(['City',CR.Month.dt.year.rename('Year'),'Customer'])[['Repayment_Amount']].sum().sort_values(by=['City','Year','Repayment_Amount'],ascending=[True,True,False]).reset_index()\n",
    "        return result.groupby(['City','Year','Month']).head(10)\n",
    "    if  product=='Platinum' and Timeperiod=='monthly':\n",
    "        result=CR.query('Product==\"Platimum\"').groupby(['City',CR.Month.dt.year.rename('Year'),CR.Month.dt.month,'Customer'])[['Repayment_Amount']].sum().sort_values(by=['City','Year','Month','Repayment_Amount'],ascending=[True,True,True,False]).reset_index()\n",
    "        return result.groupby(['City','Year','Month']).head(10)\n",
    "    if  product=='Platinum' and Timeperiod=='yearly':\n",
    "        result=CR.query('Product==\"Platimum\"').groupby(['City',CR.Month.dt.year.rename('Year'),'Customer'])[['Repayment_Amount']].sum().sort_values(by=['City','Year','Repayment_Amount'],ascending=[True,True,False]).reset_index()\n",
    "        return result.groupby(['City','Year','Month']).head(10)\n",
    "top10('Gold','monthly')\n"
   ]
  },
  {
   "cell_type": "code",
   "execution_count": null,
   "id": "7ba0fda8",
   "metadata": {},
   "outputs": [],
   "source": []
  },
  {
   "cell_type": "code",
   "execution_count": null,
   "id": "9fe3d743",
   "metadata": {},
   "outputs": [],
   "source": []
  }
 ],
 "metadata": {
  "kernelspec": {
   "display_name": "Python 3 (ipykernel)",
   "language": "python",
   "name": "python3"
  },
  "language_info": {
   "codemirror_mode": {
    "name": "ipython",
    "version": 3
   },
   "file_extension": ".py",
   "mimetype": "text/x-python",
   "name": "python",
   "nbconvert_exporter": "python",
   "pygments_lexer": "ipython3",
   "version": "3.9.13"
  }
 },
 "nbformat": 4,
 "nbformat_minor": 5
}
